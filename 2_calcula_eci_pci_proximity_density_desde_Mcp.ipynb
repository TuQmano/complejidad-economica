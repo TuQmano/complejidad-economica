{
 "cells": [
  {
   "cell_type": "code",
   "execution_count": 1,
   "metadata": {},
   "outputs": [],
   "source": [
    "import numpy as np\n",
    "import pandas as pd\n",
    "import pickle\n",
    "import matplotlib.pyplot as plt"
   ]
  },
  {
   "cell_type": "markdown",
   "metadata": {},
   "source": [
    "## Constantes"
   ]
  },
  {
   "cell_type": "code",
   "execution_count": 2,
   "metadata": {},
   "outputs": [],
   "source": [
    "# mismas constantes que en notebook 1_...\n",
    "ANIO = 2018\n",
    "VENTANA = 5"
   ]
  },
  {
   "cell_type": "code",
   "execution_count": null,
   "metadata": {},
   "outputs": [],
   "source": []
  },
  {
   "cell_type": "markdown",
   "metadata": {},
   "source": [
    "# Carga Mcp, locations and products"
   ]
  },
  {
   "cell_type": "code",
   "execution_count": 3,
   "metadata": {},
   "outputs": [],
   "source": [
    "with open(f'serializables/Mcp_{ANIO}_{VENTANA}.pkl','rb') as f:\n",
    "    Mcp = pickle.load(f)"
   ]
  },
  {
   "cell_type": "code",
   "execution_count": 4,
   "metadata": {},
   "outputs": [
    {
     "data": {
      "text/plain": [
       "(76902, (122, 4864))"
      ]
     },
     "execution_count": 4,
     "metadata": {},
     "output_type": "execute_result"
    }
   ],
   "source": [
    "Mcp.sum(), Mcp.shape"
   ]
  },
  {
   "cell_type": "code",
   "execution_count": 5,
   "metadata": {},
   "outputs": [],
   "source": [
    "with open(f'serializables/locations_{ANIO}_{VENTANA}.pkl','rb') as f:\n",
    "    locations = pickle.load(f)"
   ]
  },
  {
   "cell_type": "code",
   "execution_count": 6,
   "metadata": {},
   "outputs": [],
   "source": [
    "with open(f'serializables/products_{ANIO}_{VENTANA}.pkl','rb') as f:\n",
    "    products = pickle.load(f)"
   ]
  },
  {
   "cell_type": "code",
   "execution_count": null,
   "metadata": {},
   "outputs": [],
   "source": []
  },
  {
   "cell_type": "markdown",
   "metadata": {},
   "source": [
    "# Calcula diversity, ubiquity, y matrices diagonales inversas"
   ]
  },
  {
   "cell_type": "code",
   "execution_count": 7,
   "metadata": {},
   "outputs": [
    {
     "data": {
      "text/plain": [
       "(122,)"
      ]
     },
     "execution_count": 7,
     "metadata": {},
     "output_type": "execute_result"
    }
   ],
   "source": [
    "diversity = Mcp.sum(axis = 1)\n",
    "diversity.shape"
   ]
  },
  {
   "cell_type": "code",
   "execution_count": 8,
   "metadata": {},
   "outputs": [
    {
     "data": {
      "text/plain": [
       "(4864,)"
      ]
     },
     "execution_count": 8,
     "metadata": {},
     "output_type": "execute_result"
    }
   ],
   "source": [
    "ubiquity = Mcp.sum(axis = 0)\n",
    "ubiquity.shape"
   ]
  },
  {
   "cell_type": "code",
   "execution_count": 9,
   "metadata": {},
   "outputs": [
    {
     "data": {
      "text/plain": [
       "(122, 122)"
      ]
     },
     "execution_count": 9,
     "metadata": {},
     "output_type": "execute_result"
    }
   ],
   "source": [
    "D_inv = np.diag(1/diversity)\n",
    "D_inv.shape"
   ]
  },
  {
   "cell_type": "code",
   "execution_count": 10,
   "metadata": {},
   "outputs": [
    {
     "data": {
      "text/plain": [
       "(4864, 4864)"
      ]
     },
     "execution_count": 10,
     "metadata": {},
     "output_type": "execute_result"
    }
   ],
   "source": [
    "U_inv = np.diag(1/ubiquity)\n",
    "U_inv.shape"
   ]
  },
  {
   "cell_type": "code",
   "execution_count": null,
   "metadata": {},
   "outputs": [],
   "source": []
  },
  {
   "cell_type": "markdown",
   "metadata": {},
   "source": [
    "## Calcula Mmonio c, c'"
   ]
  },
  {
   "cell_type": "code",
   "execution_count": 11,
   "metadata": {},
   "outputs": [],
   "source": [
    "temp_Mcp_1 = Mcp.copy().astype(float)"
   ]
  },
  {
   "cell_type": "code",
   "execution_count": 12,
   "metadata": {},
   "outputs": [],
   "source": [
    "for i in range(len(products)):\n",
    "    temp_Mcp_1[:, i] = temp_Mcp_1[:, i]/ubiquity[i]"
   ]
  },
  {
   "cell_type": "code",
   "execution_count": 13,
   "metadata": {},
   "outputs": [
    {
     "data": {
      "text/plain": [
       "(dtype('float64'), (122, 4864))"
      ]
     },
     "execution_count": 13,
     "metadata": {},
     "output_type": "execute_result"
    }
   ],
   "source": [
    "temp_Mcp_1.dtype, temp_Mcp_1.shape"
   ]
  },
  {
   "cell_type": "code",
   "execution_count": 14,
   "metadata": {},
   "outputs": [
    {
     "data": {
      "text/plain": [
       "((122, 122), dtype('float64'))"
      ]
     },
     "execution_count": 14,
     "metadata": {},
     "output_type": "execute_result"
    }
   ],
   "source": [
    "Sccprima = np.matmul(temp_Mcp_1, Mcp.transpose())\n",
    "Sccprima.shape, Sccprima.dtype"
   ]
  },
  {
   "cell_type": "code",
   "execution_count": 15,
   "metadata": {},
   "outputs": [
    {
     "data": {
      "text/plain": [
       "((122, 122), dtype('float64'))"
      ]
     },
     "execution_count": 15,
     "metadata": {},
     "output_type": "execute_result"
    }
   ],
   "source": [
    "Mmonio_c = np.matmul(D_inv, Sccprima)\n",
    "Mmonio_c.shape, Mmonio_c.dtype"
   ]
  },
  {
   "cell_type": "code",
   "execution_count": 16,
   "metadata": {},
   "outputs": [],
   "source": [
    "with open(f'serializables/Mmonio_c_{ANIO}_{VENTANA}.pkl','wb') as f:\n",
    "    pickle.dump(Mmonio_c, f)"
   ]
  },
  {
   "cell_type": "code",
   "execution_count": null,
   "metadata": {},
   "outputs": [],
   "source": []
  },
  {
   "cell_type": "markdown",
   "metadata": {},
   "source": [
    "## Autovalores y autovectores c,c' y ECI"
   ]
  },
  {
   "cell_type": "code",
   "execution_count": 17,
   "metadata": {},
   "outputs": [],
   "source": [
    "def calc_complexity(mmonio):\n",
    "    autovalores, autovectores = np.linalg.eig(mmonio)\n",
    "    second_idx = np.where(autovalores == -np.sort(-autovalores)[1])[0][0]\n",
    "    \n",
    "    # el segundo autovector representa la varianza de complejidades, y por lo tanto es el ECI\n",
    "    complexity = autovectores[:, second_idx].real\n",
    "    print('Todos los avec imaginarios son cero:', (np.isclose(autovectores[:, second_idx].imag, 0.0)).all())\n",
    "    print('Mean and std of second autovector:', complexity.mean(), '+/-', complexity.std())\n",
    "    \n",
    "    return (complexity - complexity.mean())/complexity.std()\n",
    "    "
   ]
  },
  {
   "cell_type": "code",
   "execution_count": 18,
   "metadata": {},
   "outputs": [
    {
     "name": "stdout",
     "output_type": "stream",
     "text": [
      "Todos los avec imaginarios son cero: True\n",
      "Mean and std of second autovector: 0.042074388938290117 +/- 0.08016524874872466\n"
     ]
    }
   ],
   "source": [
    "eci_norm = calc_complexity(Mmonio_c)"
   ]
  },
  {
   "cell_type": "code",
   "execution_count": 19,
   "metadata": {},
   "outputs": [
    {
     "name": "stdout",
     "output_type": "stream",
     "text": [
      "Mean and std of eci: 4.4590924759534976e-17 +/- 0.9999999999999999\n"
     ]
    }
   ],
   "source": [
    "print('Mean and std of eci:', eci_norm.mean(), '+/-', eci_norm.std())"
   ]
  },
  {
   "cell_type": "code",
   "execution_count": null,
   "metadata": {},
   "outputs": [],
   "source": []
  },
  {
   "cell_type": "code",
   "execution_count": 22,
   "metadata": {},
   "outputs": [
    {
     "data": {
      "text/html": [
       "<div>\n",
       "<style scoped>\n",
       "    .dataframe tbody tr th:only-of-type {\n",
       "        vertical-align: middle;\n",
       "    }\n",
       "\n",
       "    .dataframe tbody tr th {\n",
       "        vertical-align: top;\n",
       "    }\n",
       "\n",
       "    .dataframe thead th {\n",
       "        text-align: right;\n",
       "    }\n",
       "</style>\n",
       "<table border=\"1\" class=\"dataframe\">\n",
       "  <thead>\n",
       "    <tr style=\"text-align: right;\">\n",
       "      <th></th>\n",
       "      <th>Country code</th>\n",
       "      <th>eci</th>\n",
       "    </tr>\n",
       "  </thead>\n",
       "  <tbody>\n",
       "    <tr>\n",
       "      <th>53</th>\n",
       "      <td>JPN</td>\n",
       "      <td>2.414576</td>\n",
       "    </tr>\n",
       "    <tr>\n",
       "      <th>14</th>\n",
       "      <td>CHE</td>\n",
       "      <td>2.325609</td>\n",
       "    </tr>\n",
       "    <tr>\n",
       "      <th>23</th>\n",
       "      <td>DEU</td>\n",
       "      <td>2.153279</td>\n",
       "    </tr>\n",
       "    <tr>\n",
       "      <th>99</th>\n",
       "      <td>SGP</td>\n",
       "      <td>1.916753</td>\n",
       "    </tr>\n",
       "    <tr>\n",
       "      <th>114</th>\n",
       "      <td>USA</td>\n",
       "      <td>1.805761</td>\n",
       "    </tr>\n",
       "    <tr>\n",
       "      <th>...</th>\n",
       "      <td>...</td>\n",
       "      <td>...</td>\n",
       "    </tr>\n",
       "    <tr>\n",
       "      <th>7</th>\n",
       "      <td>BGD</td>\n",
       "      <td>-1.555508</td>\n",
       "    </tr>\n",
       "    <tr>\n",
       "      <th>89</th>\n",
       "      <td>PNG</td>\n",
       "      <td>-1.563585</td>\n",
       "    </tr>\n",
       "    <tr>\n",
       "      <th>97</th>\n",
       "      <td>SDN</td>\n",
       "      <td>-1.575354</td>\n",
       "    </tr>\n",
       "    <tr>\n",
       "      <th>0</th>\n",
       "      <td>AGO</td>\n",
       "      <td>-1.634121</td>\n",
       "    </tr>\n",
       "    <tr>\n",
       "      <th>79</th>\n",
       "      <td>NGA</td>\n",
       "      <td>-1.643014</td>\n",
       "    </tr>\n",
       "  </tbody>\n",
       "</table>\n",
       "<p>122 rows × 2 columns</p>\n",
       "</div>"
      ],
      "text/plain": [
       "    Country code       eci\n",
       "53           JPN  2.414576\n",
       "14           CHE  2.325609\n",
       "23           DEU  2.153279\n",
       "99           SGP  1.916753\n",
       "114          USA  1.805761\n",
       "..           ...       ...\n",
       "7            BGD -1.555508\n",
       "89           PNG -1.563585\n",
       "97           SDN -1.575354\n",
       "0            AGO -1.634121\n",
       "79           NGA -1.643014\n",
       "\n",
       "[122 rows x 2 columns]"
      ]
     },
     "execution_count": 22,
     "metadata": {},
     "output_type": "execute_result"
    }
   ],
   "source": [
    "df_eci = pd.DataFrame({'Country code': locations, 'eci': eci_norm})\n",
    "df_eci.sort_values('eci', ascending=False, inplace=True)\n",
    "df_eci"
   ]
  },
  {
   "cell_type": "markdown",
   "metadata": {},
   "source": [
    "#### Chequear que los ECI no esten al reves. Si estan al reves hay que descomentar la proxima celda para cambiarles el signo. Esto se debe a que el calculo de autovectores tiene su dirección indeterminada, y se debe determinar a mano."
   ]
  },
  {
   "cell_type": "code",
   "execution_count": 21,
   "metadata": {},
   "outputs": [],
   "source": [
    "eci_norm = -eci_norm"
   ]
  },
  {
   "cell_type": "code",
   "execution_count": null,
   "metadata": {},
   "outputs": [],
   "source": []
  },
  {
   "cell_type": "code",
   "execution_count": 23,
   "metadata": {},
   "outputs": [],
   "source": [
    "with open(f'serializables/eci_{ANIO}_{VENTANA}.pkl','wb') as f:\n",
    "    pickle.dump(eci_norm, f)"
   ]
  },
  {
   "cell_type": "code",
   "execution_count": null,
   "metadata": {},
   "outputs": [],
   "source": []
  },
  {
   "cell_type": "markdown",
   "metadata": {},
   "source": [
    "## Calcula Mmonio p, p'"
   ]
  },
  {
   "cell_type": "code",
   "execution_count": 24,
   "metadata": {},
   "outputs": [],
   "source": [
    "temp_Mcp_2 = Mcp.copy().astype(float)"
   ]
  },
  {
   "cell_type": "code",
   "execution_count": 25,
   "metadata": {},
   "outputs": [],
   "source": [
    "for i in range(len(locations)):\n",
    "    temp_Mcp_2[i, :] = temp_Mcp_2[i, :]/diversity[i]"
   ]
  },
  {
   "cell_type": "code",
   "execution_count": 26,
   "metadata": {},
   "outputs": [
    {
     "data": {
      "text/plain": [
       "(dtype('float64'), (122, 4864))"
      ]
     },
     "execution_count": 26,
     "metadata": {},
     "output_type": "execute_result"
    }
   ],
   "source": [
    "temp_Mcp_2.dtype, temp_Mcp_2.shape"
   ]
  },
  {
   "cell_type": "code",
   "execution_count": 27,
   "metadata": {},
   "outputs": [
    {
     "data": {
      "text/plain": [
       "((4864, 4864), dtype('float64'))"
      ]
     },
     "execution_count": 27,
     "metadata": {},
     "output_type": "execute_result"
    }
   ],
   "source": [
    "Sppprima = np.matmul(Mcp.transpose(), temp_Mcp_2)\n",
    "Sppprima.shape, Sppprima.dtype"
   ]
  },
  {
   "cell_type": "code",
   "execution_count": 28,
   "metadata": {},
   "outputs": [
    {
     "data": {
      "text/plain": [
       "((4864, 4864), dtype('float64'))"
      ]
     },
     "execution_count": 28,
     "metadata": {},
     "output_type": "execute_result"
    }
   ],
   "source": [
    "Mmonio_p = np.matmul(U_inv, Sppprima)\n",
    "Mmonio_p.shape, Mmonio_p.dtype"
   ]
  },
  {
   "cell_type": "code",
   "execution_count": 29,
   "metadata": {},
   "outputs": [],
   "source": [
    "with open(f'serializables/Mmonio_p_{ANIO}_{VENTANA}.pkl','wb') as f:\n",
    "    pickle.dump(Mmonio_p, f)"
   ]
  },
  {
   "cell_type": "code",
   "execution_count": null,
   "metadata": {},
   "outputs": [],
   "source": []
  },
  {
   "cell_type": "markdown",
   "metadata": {},
   "source": [
    "## Autovalores y autovectores p,p' y PCI"
   ]
  },
  {
   "cell_type": "code",
   "execution_count": 30,
   "metadata": {},
   "outputs": [
    {
     "name": "stdout",
     "output_type": "stream",
     "text": [
      "Todos los avec imaginarios son cero: True\n",
      "Mean and std of second autovector: 0.0031990837312377536 +/- 0.013977051496781709\n"
     ]
    }
   ],
   "source": [
    "pci_norm = calc_complexity(Mmonio_p)"
   ]
  },
  {
   "cell_type": "code",
   "execution_count": 31,
   "metadata": {},
   "outputs": [
    {
     "name": "stdout",
     "output_type": "stream",
     "text": [
      "Mean and std of pci: -1.1686558153949016e-17 +/- 1.0\n"
     ]
    }
   ],
   "source": [
    "print('Mean and std of pci:', pci_norm.mean(), '+/-', pci_norm.std())"
   ]
  },
  {
   "cell_type": "code",
   "execution_count": null,
   "metadata": {},
   "outputs": [],
   "source": []
  },
  {
   "cell_type": "code",
   "execution_count": 32,
   "metadata": {},
   "outputs": [
    {
     "data": {
      "text/html": [
       "<div>\n",
       "<style scoped>\n",
       "    .dataframe tbody tr th:only-of-type {\n",
       "        vertical-align: middle;\n",
       "    }\n",
       "\n",
       "    .dataframe tbody tr th {\n",
       "        vertical-align: top;\n",
       "    }\n",
       "\n",
       "    .dataframe thead th {\n",
       "        text-align: right;\n",
       "    }\n",
       "</style>\n",
       "<table border=\"1\" class=\"dataframe\">\n",
       "  <thead>\n",
       "    <tr style=\"text-align: right;\">\n",
       "      <th></th>\n",
       "      <th>Product code</th>\n",
       "      <th>pci</th>\n",
       "    </tr>\n",
       "  </thead>\n",
       "  <tbody>\n",
       "    <tr>\n",
       "      <th>3452</th>\n",
       "      <td>780500</td>\n",
       "      <td>3.452359</td>\n",
       "    </tr>\n",
       "    <tr>\n",
       "      <th>3966</th>\n",
       "      <td>846140</td>\n",
       "      <td>3.224919</td>\n",
       "    </tr>\n",
       "    <tr>\n",
       "      <th>1485</th>\n",
       "      <td>370291</td>\n",
       "      <td>2.967474</td>\n",
       "    </tr>\n",
       "    <tr>\n",
       "      <th>3346</th>\n",
       "      <td>740323</td>\n",
       "      <td>2.967474</td>\n",
       "    </tr>\n",
       "    <tr>\n",
       "      <th>178</th>\n",
       "      <td>050300</td>\n",
       "      <td>2.943348</td>\n",
       "    </tr>\n",
       "    <tr>\n",
       "      <th>...</th>\n",
       "      <td>...</td>\n",
       "      <td>...</td>\n",
       "    </tr>\n",
       "    <tr>\n",
       "      <th>2200</th>\n",
       "      <td>530310</td>\n",
       "      <td>-2.760333</td>\n",
       "    </tr>\n",
       "    <tr>\n",
       "      <th>3503</th>\n",
       "      <td>811240</td>\n",
       "      <td>-2.763685</td>\n",
       "    </tr>\n",
       "    <tr>\n",
       "      <th>1395</th>\n",
       "      <td>330122</td>\n",
       "      <td>-2.763685</td>\n",
       "    </tr>\n",
       "    <tr>\n",
       "      <th>397</th>\n",
       "      <td>120740</td>\n",
       "      <td>-2.787129</td>\n",
       "    </tr>\n",
       "    <tr>\n",
       "      <th>2211</th>\n",
       "      <td>530710</td>\n",
       "      <td>-4.281462</td>\n",
       "    </tr>\n",
       "  </tbody>\n",
       "</table>\n",
       "<p>4864 rows × 2 columns</p>\n",
       "</div>"
      ],
      "text/plain": [
       "     Product code       pci\n",
       "3452       780500  3.452359\n",
       "3966       846140  3.224919\n",
       "1485       370291  2.967474\n",
       "3346       740323  2.967474\n",
       "178        050300  2.943348\n",
       "...           ...       ...\n",
       "2200       530310 -2.760333\n",
       "3503       811240 -2.763685\n",
       "1395       330122 -2.763685\n",
       "397        120740 -2.787129\n",
       "2211       530710 -4.281462\n",
       "\n",
       "[4864 rows x 2 columns]"
      ]
     },
     "execution_count": 32,
     "metadata": {},
     "output_type": "execute_result"
    }
   ],
   "source": [
    "df_pci = pd.DataFrame({'Product code': products, 'pci': pci_norm})\n",
    "df_pci.sort_values('pci', ascending=False, inplace=True)\n",
    "df_pci"
   ]
  },
  {
   "cell_type": "code",
   "execution_count": 33,
   "metadata": {},
   "outputs": [
    {
     "data": {
      "text/html": [
       "<div>\n",
       "<style scoped>\n",
       "    .dataframe tbody tr th:only-of-type {\n",
       "        vertical-align: middle;\n",
       "    }\n",
       "\n",
       "    .dataframe tbody tr th {\n",
       "        vertical-align: top;\n",
       "    }\n",
       "\n",
       "    .dataframe thead th {\n",
       "        text-align: right;\n",
       "    }\n",
       "</style>\n",
       "<table border=\"1\" class=\"dataframe\">\n",
       "  <thead>\n",
       "    <tr style=\"text-align: right;\">\n",
       "      <th></th>\n",
       "      <th>Product code</th>\n",
       "      <th>pci</th>\n",
       "    </tr>\n",
       "  </thead>\n",
       "  <tbody>\n",
       "    <tr>\n",
       "      <th>4064</th>\n",
       "      <td>847989</td>\n",
       "      <td>2.241124</td>\n",
       "    </tr>\n",
       "    <tr>\n",
       "      <th>4612</th>\n",
       "      <td>902790</td>\n",
       "      <td>2.152727</td>\n",
       "    </tr>\n",
       "    <tr>\n",
       "      <th>4611</th>\n",
       "      <td>902780</td>\n",
       "      <td>2.104298</td>\n",
       "    </tr>\n",
       "    <tr>\n",
       "      <th>4065</th>\n",
       "      <td>847990</td>\n",
       "      <td>2.013471</td>\n",
       "    </tr>\n",
       "    <tr>\n",
       "      <th>4608</th>\n",
       "      <td>902730</td>\n",
       "      <td>1.981902</td>\n",
       "    </tr>\n",
       "  </tbody>\n",
       "</table>\n",
       "</div>"
      ],
      "text/plain": [
       "     Product code       pci\n",
       "4064       847989  2.241124\n",
       "4612       902790  2.152727\n",
       "4611       902780  2.104298\n",
       "4065       847990  2.013471\n",
       "4608       902730  1.981902"
      ]
     },
     "execution_count": 33,
     "metadata": {},
     "output_type": "execute_result"
    }
   ],
   "source": [
    "algunos_pci_positivos = ['847989', '902790', '902780', '847990', '902730']\n",
    "df_pci.loc[df_pci['Product code'].isin(algunos_pci_positivos)]"
   ]
  },
  {
   "cell_type": "code",
   "execution_count": 34,
   "metadata": {},
   "outputs": [
    {
     "data": {
      "text/html": [
       "<div>\n",
       "<style scoped>\n",
       "    .dataframe tbody tr th:only-of-type {\n",
       "        vertical-align: middle;\n",
       "    }\n",
       "\n",
       "    .dataframe tbody tr th {\n",
       "        vertical-align: top;\n",
       "    }\n",
       "\n",
       "    .dataframe thead th {\n",
       "        text-align: right;\n",
       "    }\n",
       "</style>\n",
       "<table border=\"1\" class=\"dataframe\">\n",
       "  <thead>\n",
       "    <tr style=\"text-align: right;\">\n",
       "      <th></th>\n",
       "      <th>Product code</th>\n",
       "      <th>pci</th>\n",
       "    </tr>\n",
       "  </thead>\n",
       "  <tbody>\n",
       "    <tr>\n",
       "      <th>2419</th>\n",
       "      <td>560721</td>\n",
       "      <td>-1.435431</td>\n",
       "    </tr>\n",
       "    <tr>\n",
       "      <th>1875</th>\n",
       "      <td>460120</td>\n",
       "      <td>-1.983101</td>\n",
       "    </tr>\n",
       "    <tr>\n",
       "      <th>2208</th>\n",
       "      <td>530599</td>\n",
       "      <td>-2.083508</td>\n",
       "    </tr>\n",
       "    <tr>\n",
       "      <th>2799</th>\n",
       "      <td>630510</td>\n",
       "      <td>-2.342862</td>\n",
       "    </tr>\n",
       "    <tr>\n",
       "      <th>2200</th>\n",
       "      <td>530310</td>\n",
       "      <td>-2.760333</td>\n",
       "    </tr>\n",
       "  </tbody>\n",
       "</table>\n",
       "</div>"
      ],
      "text/plain": [
       "     Product code       pci\n",
       "2419       560721 -1.435431\n",
       "1875       460120 -1.983101\n",
       "2208       530599 -2.083508\n",
       "2799       630510 -2.342862\n",
       "2200       530310 -2.760333"
      ]
     },
     "execution_count": 34,
     "metadata": {},
     "output_type": "execute_result"
    }
   ],
   "source": [
    "algunos_pci_negativos = ['560721', '460120', '530599', '630510', '530310']\n",
    "df_pci.loc[df_pci['Product code'].isin(algunos_pci_negativos)]"
   ]
  },
  {
   "cell_type": "markdown",
   "metadata": {},
   "source": [
    "#### Chequear que los PCI no esten al reves. Si estan al reves hay que descomentar la proxima celda para cambiarles el signo, por las mismas razones que en el caso del ECI."
   ]
  },
  {
   "cell_type": "code",
   "execution_count": 35,
   "metadata": {},
   "outputs": [],
   "source": [
    "#pci_norm = -pci_norm"
   ]
  },
  {
   "cell_type": "code",
   "execution_count": null,
   "metadata": {},
   "outputs": [],
   "source": []
  },
  {
   "cell_type": "code",
   "execution_count": 36,
   "metadata": {},
   "outputs": [],
   "source": [
    "with open(f'serializables/pci_{ANIO}_{VENTANA}.pkl','wb') as f:\n",
    "    pickle.dump(pci_norm, f)"
   ]
  },
  {
   "cell_type": "code",
   "execution_count": null,
   "metadata": {},
   "outputs": [],
   "source": []
  },
  {
   "cell_type": "markdown",
   "metadata": {},
   "source": [
    "# Proximity y Density, con productos (como en el paper)"
   ]
  },
  {
   "cell_type": "code",
   "execution_count": 37,
   "metadata": {},
   "outputs": [
    {
     "data": {
      "text/plain": [
       "array([13., 19., 24., ..., 23., 17., 26.])"
      ]
     },
     "execution_count": 37,
     "metadata": {},
     "output_type": "execute_result"
    }
   ],
   "source": [
    "p_RCAmay1 = np.zeros((len(products),))\n",
    "\n",
    "for prod in range(len(products)):\n",
    "    p_RCAmay1[prod] = Mcp[:, prod].sum()\n",
    "    \n",
    "p_RCAmay1"
   ]
  },
  {
   "cell_type": "code",
   "execution_count": 38,
   "metadata": {},
   "outputs": [
    {
     "name": "stdout",
     "output_type": "stream",
     "text": [
      ". . . . . . . . . . "
     ]
    }
   ],
   "source": [
    "almost_proximity = np.zeros((len(products), len(products)))\n",
    "\n",
    "for p1 in range(len(products)-1):\n",
    "    if p1 % 487 == 0:\n",
    "        print('.', end=' ')\n",
    "        \n",
    "    # como es una matriz simetrica, calcula unicamente la mitad de los valores:\n",
    "    for p2 in range(p1+1, len(products)):\n",
    "        almost_proximity[p1, p2] = np.logical_and(Mcp[:, p1], Mcp[:, p2]).sum()/max(p_RCAmay1[p1], p_RCAmay1[p2])"
   ]
  },
  {
   "cell_type": "code",
   "execution_count": 39,
   "metadata": {},
   "outputs": [],
   "source": [
    "# chequeo que no haya valores incorrectamente imputados\n",
    "for i in range(len(products)):\n",
    "    if not np.isclose(almost_proximity[i, :i].sum(), 0.0):\n",
    "        print('something wrong at row', i)"
   ]
  },
  {
   "cell_type": "code",
   "execution_count": 40,
   "metadata": {},
   "outputs": [],
   "source": [
    "proximity = almost_proximity + almost_proximity.transpose() + np.diag(np.ones(len(products)))"
   ]
  },
  {
   "cell_type": "code",
   "execution_count": 41,
   "metadata": {},
   "outputs": [],
   "source": [
    "density_cp = np.matmul(Mcp, proximity)\n",
    "\n",
    "for i in range(len(products)):\n",
    "    density_cp[:, i] = density_cp[:, i]/proximity[:, i].sum()"
   ]
  },
  {
   "cell_type": "code",
   "execution_count": 42,
   "metadata": {},
   "outputs": [],
   "source": [
    "with open(f'serializables/proximity_{ANIO}_{VENTANA}.pkl','wb') as f:\n",
    "    pickle.dump(proximity, f)"
   ]
  },
  {
   "cell_type": "code",
   "execution_count": 43,
   "metadata": {},
   "outputs": [],
   "source": [
    "with open(f'serializables/density_{ANIO}_{VENTANA}.pkl','wb') as f:\n",
    "    pickle.dump(density_cp, f)"
   ]
  },
  {
   "cell_type": "code",
   "execution_count": null,
   "metadata": {},
   "outputs": [],
   "source": []
  },
  {
   "cell_type": "markdown",
   "metadata": {},
   "source": [
    "## Proximity y density de otra forma (con paises, como propone oec.world)"
   ]
  },
  {
   "cell_type": "code",
   "execution_count": 44,
   "metadata": {},
   "outputs": [
    {
     "data": {
      "text/plain": [
       "array([  38.,  474.,  377.,  448.,  391., 1410.,   77.,  397., 1158.,\n",
       "        682.,  745.,  159.,  572.,  801.,  745.,  382., 2290.,  229.,\n",
       "        174.,   74.,  366.,  392., 1238., 1806., 1172.,  516.,   45.,\n",
       "        209.,  954., 1813.,  946.,  395.,  789., 1660.,   47., 1298.,\n",
       "        373.,  206.,  105.,  810.,  646., 1220.,  410., 1030.,  879.,\n",
       "        955., 1526.,  417.,  393.,  724., 2051.,  258.,  672., 1297.,\n",
       "        266.,  586.,  487.,  443.,  895.,   61.,  306.,  970.,   82.,\n",
       "         36.,  676., 1165., 1020.,  638.,  559.,  447.,  627.,  473.,\n",
       "        134.,  113.,  223.,  100.,  614.,  262.,  811.,  100.,  277.,\n",
       "       1407.,  407.,  574.,  175.,  880.,  907.,  423.,  710.,   77.,\n",
       "       1403., 1464.,  175.,   67.,  982.,  421.,  245.,  136.,  411.,\n",
       "        628.,  582.,  816., 1075., 1104., 1138.,  158.,   75.,  153.,\n",
       "        830., 1535.,  550.,  488.,  683.,  296., 1508.,  292.,   59.,\n",
       "        887.,  199.,  909.,  231.,  230.])"
      ]
     },
     "execution_count": 44,
     "metadata": {},
     "output_type": "execute_result"
    }
   ],
   "source": [
    "p_RCAmay1_c = np.zeros((len(locations),))\n",
    "\n",
    "for loc in range(len(locations)):\n",
    "    p_RCAmay1_c[loc] = Mcp[loc, :].sum()\n",
    "    \n",
    "p_RCAmay1_c"
   ]
  },
  {
   "cell_type": "code",
   "execution_count": 45,
   "metadata": {},
   "outputs": [
    {
     "name": "stdout",
     "output_type": "stream",
     "text": [
      ". . . . . . . . . . "
     ]
    }
   ],
   "source": [
    "almost_proximity_c = np.zeros((len(locations), len(locations)))\n",
    "\n",
    "for l1 in range(len(locations)-1):\n",
    "    if l1 % 13 == 0:\n",
    "        print('.', end=' ')\n",
    "        \n",
    "    for l2 in range(l1+1, len(locations)):\n",
    "        almost_proximity_c[l1, l2] = np.logical_and(Mcp[l1, :], Mcp[l2, :]).sum()/max(p_RCAmay1_c[l1], p_RCAmay1_c[l2])"
   ]
  },
  {
   "cell_type": "code",
   "execution_count": 46,
   "metadata": {},
   "outputs": [],
   "source": [
    "# chequeo\n",
    "for i in range(len(locations)):\n",
    "    if not np.isclose(almost_proximity_c[i, :i].sum(), 0.0):\n",
    "        print('something wrong at row', i)"
   ]
  },
  {
   "cell_type": "code",
   "execution_count": 47,
   "metadata": {},
   "outputs": [],
   "source": [
    "proximity_c = almost_proximity_c + almost_proximity_c.transpose() + np.diag(np.ones(len(locations)))"
   ]
  },
  {
   "cell_type": "code",
   "execution_count": 48,
   "metadata": {},
   "outputs": [],
   "source": [
    "density_cp_c = np.matmul(proximity_c, Mcp)\n",
    "\n",
    "for i in range(len(locations)):\n",
    "    density_cp_c[i, :] = density_cp_c[i, :]/proximity_c[:, i].sum()"
   ]
  },
  {
   "cell_type": "code",
   "execution_count": 49,
   "metadata": {},
   "outputs": [],
   "source": [
    "with open(f'serializables/proximity_c_{ANIO}_{VENTANA}.pkl','wb') as f:\n",
    "    pickle.dump(proximity_c, f)"
   ]
  },
  {
   "cell_type": "code",
   "execution_count": 50,
   "metadata": {},
   "outputs": [],
   "source": [
    "with open(f'serializables/density_with_c_{ANIO}_{VENTANA}.pkl','wb') as f:\n",
    "    pickle.dump(density_cp_c, f)"
   ]
  },
  {
   "cell_type": "code",
   "execution_count": null,
   "metadata": {},
   "outputs": [],
   "source": []
  },
  {
   "cell_type": "code",
   "execution_count": null,
   "metadata": {},
   "outputs": [],
   "source": []
  }
 ],
 "metadata": {
  "kernelspec": {
   "display_name": "Python 3",
   "language": "python",
   "name": "python3"
  },
  "language_info": {
   "codemirror_mode": {
    "name": "ipython",
    "version": 3
   },
   "file_extension": ".py",
   "mimetype": "text/x-python",
   "name": "python",
   "nbconvert_exporter": "python",
   "pygments_lexer": "ipython3",
   "version": "3.8.5"
  }
 },
 "nbformat": 4,
 "nbformat_minor": 4
}
