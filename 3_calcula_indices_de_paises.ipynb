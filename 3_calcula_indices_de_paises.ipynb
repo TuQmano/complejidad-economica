{
 "cells": [
  {
   "cell_type": "code",
   "execution_count": 1,
   "metadata": {},
   "outputs": [],
   "source": [
    "import numpy as np\n",
    "import pandas as pd\n",
    "import pickle\n",
    "import io\n",
    "\n",
    "from scipy.stats import rankdata"
   ]
  },
  {
   "cell_type": "markdown",
   "metadata": {},
   "source": [
    "## Constantes"
   ]
  },
  {
   "cell_type": "code",
   "execution_count": 2,
   "metadata": {},
   "outputs": [],
   "source": [
    "# mismas constantes que en notebook 1_...\n",
    "ANIO = 2018\n",
    "VENTANA = 5\n",
    "DATASETS_DIR = './datasets/'"
   ]
  },
  {
   "cell_type": "code",
   "execution_count": null,
   "metadata": {},
   "outputs": [],
   "source": []
  },
  {
   "cell_type": "markdown",
   "metadata": {},
   "source": [
    "## Lee datasets"
   ]
  },
  {
   "cell_type": "code",
   "execution_count": 3,
   "metadata": {},
   "outputs": [
    {
     "data": {
      "text/plain": [
       "((293,), dtype('<U21'))"
      ]
     },
     "execution_count": 3,
     "metadata": {},
     "output_type": "execute_result"
    }
   ],
   "source": [
    "green = pd.read_csv(DATASETS_DIR + 'green_subset_RPOL_list.csv')\n",
    "green.rename(columns={'Green HS92 codes': 'HS92'}, inplace = True)\n",
    "green_codes = green.HS92.to_numpy()\n",
    "green_codes = green_codes.astype(str)\n",
    "green_codes.shape, green_codes.dtype"
   ]
  },
  {
   "cell_type": "code",
   "execution_count": 4,
   "metadata": {},
   "outputs": [
    {
     "data": {
      "text/plain": [
       "((57,), dtype('<U21'))"
      ]
     },
     "execution_count": 4,
     "metadata": {},
     "output_type": "execute_result"
    }
   ],
   "source": [
    "renewables = pd.read_csv(DATASETS_DIR + 'RE_subset_RPOL_list.csv')\n",
    "renewables.rename(columns={'RE HS92 codes': 'HS92'}, inplace = True)\n",
    "renew_codes = renewables.HS92.to_numpy()\n",
    "renew_codes = renew_codes.astype(str)\n",
    "renew_codes.shape, renew_codes.dtype"
   ]
  },
  {
   "cell_type": "code",
   "execution_count": 5,
   "metadata": {},
   "outputs": [
    {
     "data": {
      "text/plain": [
       "(Index(['HS92', 'HS92 description'], dtype='object'),\n",
       " Index(['HS92', 'HS92 description'], dtype='object'))"
      ]
     },
     "execution_count": 5,
     "metadata": {},
     "output_type": "execute_result"
    }
   ],
   "source": [
    "green.columns, renewables.columns"
   ]
  },
  {
   "cell_type": "code",
   "execution_count": 6,
   "metadata": {},
   "outputs": [],
   "source": [
    "with open(f'serializables/locations_{ANIO}_{VENTANA}.pkl','rb') as f:\n",
    "    locations = pickle.load(f)\n",
    "\n",
    "paises = pd.read_csv(DATASETS_DIR + \"lista_paises_iso3.csv\")\n",
    "paises.rename(columns={'0': 'Name'}, inplace=True)"
   ]
  },
  {
   "cell_type": "code",
   "execution_count": 7,
   "metadata": {},
   "outputs": [],
   "source": [
    "with open(f'serializables/products_{ANIO}_{VENTANA}.pkl','rb') as f:\n",
    "    products = pickle.load(f)"
   ]
  },
  {
   "cell_type": "code",
   "execution_count": 8,
   "metadata": {},
   "outputs": [],
   "source": [
    "with open(f'serializables/proximity_{ANIO}_{VENTANA}.pkl','rb') as f:\n",
    "    proximity = pickle.load(f)"
   ]
  },
  {
   "cell_type": "code",
   "execution_count": 9,
   "metadata": {},
   "outputs": [],
   "source": [
    "with open(f'serializables/proximity_c_{ANIO}_{VENTANA}.pkl','rb') as f:\n",
    "    proximity_c = pickle.load(f)"
   ]
  },
  {
   "cell_type": "code",
   "execution_count": 10,
   "metadata": {},
   "outputs": [],
   "source": [
    "with open(f'serializables/density_{ANIO}_{VENTANA}.pkl','rb') as f:\n",
    "    density_cp = pickle.load(f)"
   ]
  },
  {
   "cell_type": "code",
   "execution_count": 11,
   "metadata": {},
   "outputs": [],
   "source": [
    "with open(f'serializables/export_values_{ANIO}_{VENTANA}.pkl','rb') as f:\n",
    "    export_values = pickle.load(f)"
   ]
  },
  {
   "cell_type": "code",
   "execution_count": 12,
   "metadata": {},
   "outputs": [],
   "source": [
    "with open(f'serializables/Mcp_{ANIO}_{VENTANA}.pkl','rb') as f:\n",
    "    Mcp = pickle.load(f)"
   ]
  },
  {
   "cell_type": "code",
   "execution_count": 13,
   "metadata": {},
   "outputs": [],
   "source": [
    "with open(f'serializables/eci_{ANIO}_{VENTANA}.pkl','rb') as f:\n",
    "    eci = pickle.load(f)"
   ]
  },
  {
   "cell_type": "code",
   "execution_count": 14,
   "metadata": {},
   "outputs": [],
   "source": [
    "with open(f'serializables/pci_{ANIO}_{VENTANA}.pkl','rb') as f:\n",
    "    pci = pickle.load(f)"
   ]
  },
  {
   "cell_type": "code",
   "execution_count": 15,
   "metadata": {},
   "outputs": [],
   "source": [
    "with open(f'serializables/RCA_{ANIO}_{VENTANA}.pkl','rb') as f:\n",
    "    RCA = pickle.load(f)"
   ]
  },
  {
   "cell_type": "code",
   "execution_count": null,
   "metadata": {},
   "outputs": [],
   "source": []
  },
  {
   "cell_type": "markdown",
   "metadata": {},
   "source": [
    "### Toma indices de productos verdes y de energias renovables. También toma indices de paises regionales y desarrollados"
   ]
  },
  {
   "cell_type": "code",
   "execution_count": 16,
   "metadata": {},
   "outputs": [
    {
     "data": {
      "text/plain": [
       "((293,), dtype('int64'))"
      ]
     },
     "execution_count": 16,
     "metadata": {},
     "output_type": "execute_result"
    }
   ],
   "source": [
    "green_idx = np.searchsorted(products, green_codes)\n",
    "green_idx.shape, green_idx.dtype"
   ]
  },
  {
   "cell_type": "code",
   "execution_count": 17,
   "metadata": {},
   "outputs": [
    {
     "data": {
      "text/plain": [
       "((57,), dtype('int64'))"
      ]
     },
     "execution_count": 17,
     "metadata": {},
     "output_type": "execute_result"
    }
   ],
   "source": [
    "renew_idx = np.searchsorted(products, renew_codes)\n",
    "renew_idx.shape, renew_idx.dtype"
   ]
  },
  {
   "cell_type": "code",
   "execution_count": 18,
   "metadata": {},
   "outputs": [
    {
     "data": {
      "text/plain": [
       "['BRA', 'MEX', 'COL', 'ARG', 'PER', 'VEN', 'CHL', 'ECU', 'BOL', 'PRY', 'URY']"
      ]
     },
     "execution_count": 18,
     "metadata": {},
     "output_type": "execute_result"
    }
   ],
   "source": [
    "regional_names = {\n",
    "    'BRA': 'Brasil', 'MEX': 'México', 'COL': 'Colombia', 'ARG': 'Argentina', 'PER': 'Perú',\n",
    "    'VEN': 'Venezuela', 'CHL': 'Chile', 'ECU': 'Ecuador', 'BOL': 'Bolivia',\n",
    "    'PRY': 'Paraguay', 'URY': 'Uruguay'\n",
    "}\n",
    "regional_codes = list(regional_names.keys())\n",
    "regional_codes"
   ]
  },
  {
   "cell_type": "markdown",
   "metadata": {},
   "source": [
    "\"Regional\" seria paises de America del Sur + Mexico"
   ]
  },
  {
   "cell_type": "code",
   "execution_count": 19,
   "metadata": {},
   "outputs": [],
   "source": [
    "developed_codes = ['CHN', 'ITA', 'ESP', 'FRA', 'DEU', 'TUR', 'POL', 'AUT',\n",
    "                   'PRT', 'IND', 'USA', 'JPN', 'CZE', 'DNK', 'GBR']"
   ]
  },
  {
   "cell_type": "code",
   "execution_count": null,
   "metadata": {},
   "outputs": [],
   "source": []
  },
  {
   "cell_type": "markdown",
   "metadata": {},
   "source": [
    "## Calculo GCI"
   ]
  },
  {
   "cell_type": "code",
   "execution_count": 20,
   "metadata": {},
   "outputs": [],
   "source": [
    "pci_g = pci[green_idx]"
   ]
  },
  {
   "cell_type": "code",
   "execution_count": 21,
   "metadata": {},
   "outputs": [],
   "source": [
    "# Paper de Mealy pide normalizar todos los PCI verdes para que queden entre 0 y 1\n",
    "\n",
    "pci_g = pci_g - min(pci_g)\n",
    "pci_g = pci_g / max(pci_g)"
   ]
  },
  {
   "cell_type": "code",
   "execution_count": 22,
   "metadata": {},
   "outputs": [],
   "source": [
    "gci = np.matmul(Mcp[:, green_idx], pci_g)"
   ]
  },
  {
   "cell_type": "code",
   "execution_count": 23,
   "metadata": {},
   "outputs": [],
   "source": [
    "gci = (gci - gci.mean())/gci.std()"
   ]
  },
  {
   "cell_type": "code",
   "execution_count": 24,
   "metadata": {},
   "outputs": [
    {
     "data": {
      "text/plain": [
       "(122,)"
      ]
     },
     "execution_count": 24,
     "metadata": {},
     "output_type": "execute_result"
    }
   ],
   "source": [
    "gci.shape"
   ]
  },
  {
   "cell_type": "code",
   "execution_count": null,
   "metadata": {},
   "outputs": [],
   "source": []
  },
  {
   "cell_type": "markdown",
   "metadata": {},
   "source": [
    "## Calculo GCP"
   ]
  },
  {
   "cell_type": "code",
   "execution_count": 25,
   "metadata": {},
   "outputs": [],
   "source": [
    "non_RCA = np.ones((len(locations), len(green_idx)), dtype=np.int64) - Mcp[:, green_idx]\n",
    "non_RCA = non_RCA.astype(float)\n",
    "denominator = non_RCA.sum(axis = 1)"
   ]
  },
  {
   "cell_type": "code",
   "execution_count": 26,
   "metadata": {},
   "outputs": [],
   "source": [
    "pci_g = pci[green_idx]"
   ]
  },
  {
   "cell_type": "code",
   "execution_count": 27,
   "metadata": {},
   "outputs": [],
   "source": [
    "# Normalizacion entre 0 y 1\n",
    "\n",
    "pci_g = pci_g - min(pci_g)\n",
    "pci_g = pci_g / max(pci_g)"
   ]
  },
  {
   "cell_type": "code",
   "execution_count": 28,
   "metadata": {},
   "outputs": [
    {
     "data": {
      "text/plain": [
       "((122,), dtype('float64'))"
      ]
     },
     "execution_count": 28,
     "metadata": {},
     "output_type": "execute_result"
    }
   ],
   "source": [
    "numerator = np.matmul(non_RCA * density_cp[:, green_idx], pci_g)\n",
    "numerator.shape, numerator.dtype"
   ]
  },
  {
   "cell_type": "code",
   "execution_count": 29,
   "metadata": {},
   "outputs": [],
   "source": [
    "gcp = numerator / denominator"
   ]
  },
  {
   "cell_type": "code",
   "execution_count": 30,
   "metadata": {},
   "outputs": [],
   "source": [
    "gcp = (gcp - gcp.mean())/gcp.std()"
   ]
  },
  {
   "cell_type": "code",
   "execution_count": null,
   "metadata": {},
   "outputs": [],
   "source": []
  },
  {
   "cell_type": "markdown",
   "metadata": {},
   "source": [
    "## Calculo Complexity outlook index (COI)"
   ]
  },
  {
   "cell_type": "code",
   "execution_count": 31,
   "metadata": {},
   "outputs": [],
   "source": [
    "# calculo distancias (ver Atlas of Complexity Economics, Hausmann et al 2014, technical box 5.4, page 62)\n",
    "\n",
    "non_RCA_all = np.ones((len(locations), len(products)), dtype=np.int64) - Mcp\n",
    "non_RCA_all = non_RCA_all.astype(float)\n",
    "\n",
    "distance_cp = np.matmul(non_RCA_all, proximity)\n",
    "\n",
    "for i in range(len(products)):\n",
    "    distance_cp[:, i] = distance_cp[:, i]/proximity[i, :].sum()"
   ]
  },
  {
   "cell_type": "code",
   "execution_count": 32,
   "metadata": {},
   "outputs": [],
   "source": [
    "inv_distance_cp = np.ones((len(locations), len(products)), float) - distance_cp"
   ]
  },
  {
   "cell_type": "code",
   "execution_count": 33,
   "metadata": {},
   "outputs": [],
   "source": [
    "coi = np.matmul(non_RCA_all * inv_distance_cp, pci)"
   ]
  },
  {
   "cell_type": "code",
   "execution_count": 34,
   "metadata": {},
   "outputs": [],
   "source": [
    "coi = (coi - coi.mean())/coi.std()"
   ]
  },
  {
   "cell_type": "code",
   "execution_count": null,
   "metadata": {},
   "outputs": [],
   "source": []
  },
  {
   "cell_type": "markdown",
   "metadata": {},
   "source": [
    "## Crea DataFrame para indices de paises"
   ]
  },
  {
   "cell_type": "code",
   "execution_count": 35,
   "metadata": {},
   "outputs": [],
   "source": [
    "df_countries = pd.DataFrame({\n",
    "    'Country_code': locations, \n",
    "    'ECI': eci,\n",
    "    'GCI': gci,\n",
    "    'GCP': gcp,\n",
    "    'COI': coi\n",
    "})\n",
    "\n",
    "# agrega columnas de ranking mundial para cada index\n",
    "for idx in ['ECI', 'GCI', 'GCP', 'COI']:\n",
    "    df_countries.sort_values(idx, ascending=False, inplace=True)\n",
    "    df_countries[idx + '_rank'] = np.array(list(range(1, len(locations)+1)))"
   ]
  },
  {
   "cell_type": "code",
   "execution_count": 36,
   "metadata": {},
   "outputs": [],
   "source": [
    "# agrega nombre pais\n",
    "df_countries['Country'] = ''\n",
    "for row in df_countries.iterrows():\n",
    "    df_countries.loc[df_countries['Country_code']==row[1]['Country_code'], 'Country'] = paises.loc[paises.ISO3 == row[1]['Country_code'], 'Name'].values[0]"
   ]
  },
  {
   "cell_type": "code",
   "execution_count": 37,
   "metadata": {},
   "outputs": [],
   "source": [
    "# ordena dataframe por columna \"ordena_por\"\n",
    "ordena_por = 'GCI'\n",
    "\n",
    "df_countries.sort_values(ordena_por, ascending=False, inplace=True)"
   ]
  },
  {
   "cell_type": "code",
   "execution_count": 38,
   "metadata": {},
   "outputs": [],
   "source": [
    "df_countries = df_countries[['Country', 'Country_code', 'ECI', 'ECI_rank', 'GCI', 'GCI_rank', \n",
    "                             'GCP', 'GCP_rank', 'COI', 'COI_rank']].copy()"
   ]
  },
  {
   "cell_type": "code",
   "execution_count": 39,
   "metadata": {},
   "outputs": [],
   "source": [
    "df_countries.to_csv(DATASETS_DIR + f'df_countries_{ANIO-VENTANA+1}_{ANIO}.csv')"
   ]
  },
  {
   "cell_type": "code",
   "execution_count": null,
   "metadata": {},
   "outputs": [],
   "source": []
  },
  {
   "cell_type": "code",
   "execution_count": 40,
   "metadata": {},
   "outputs": [
    {
     "data": {
      "text/html": [
       "<div>\n",
       "<style scoped>\n",
       "    .dataframe tbody tr th:only-of-type {\n",
       "        vertical-align: middle;\n",
       "    }\n",
       "\n",
       "    .dataframe tbody tr th {\n",
       "        vertical-align: top;\n",
       "    }\n",
       "\n",
       "    .dataframe thead th {\n",
       "        text-align: right;\n",
       "    }\n",
       "</style>\n",
       "<table border=\"1\" class=\"dataframe\">\n",
       "  <thead>\n",
       "    <tr style=\"text-align: right;\">\n",
       "      <th></th>\n",
       "      <th>Country</th>\n",
       "      <th>Country_code</th>\n",
       "      <th>ECI</th>\n",
       "      <th>ECI_rank</th>\n",
       "      <th>GCI</th>\n",
       "      <th>GCI_rank</th>\n",
       "      <th>GCP</th>\n",
       "      <th>GCP_rank</th>\n",
       "      <th>COI</th>\n",
       "      <th>COI_rank</th>\n",
       "    </tr>\n",
       "  </thead>\n",
       "  <tbody>\n",
       "    <tr>\n",
       "      <th>3</th>\n",
       "      <td>Argentina</td>\n",
       "      <td>ARG</td>\n",
       "      <td>0.197288</td>\n",
       "      <td>49</td>\n",
       "      <td>-0.593356</td>\n",
       "      <td>73</td>\n",
       "      <td>-0.403258</td>\n",
       "      <td>68</td>\n",
       "      <td>0.310957</td>\n",
       "      <td>42</td>\n",
       "    </tr>\n",
       "  </tbody>\n",
       "</table>\n",
       "</div>"
      ],
      "text/plain": [
       "     Country Country_code       ECI  ECI_rank       GCI  GCI_rank       GCP  \\\n",
       "3  Argentina          ARG  0.197288        49 -0.593356        73 -0.403258   \n",
       "\n",
       "   GCP_rank       COI  COI_rank  \n",
       "3        68  0.310957        42  "
      ]
     },
     "execution_count": 40,
     "metadata": {},
     "output_type": "execute_result"
    }
   ],
   "source": [
    "df_countries.loc[df_countries.Country_code == 'ARG']"
   ]
  },
  {
   "cell_type": "code",
   "execution_count": null,
   "metadata": {},
   "outputs": [],
   "source": []
  },
  {
   "cell_type": "code",
   "execution_count": null,
   "metadata": {},
   "outputs": [],
   "source": []
  }
 ],
 "metadata": {
  "kernelspec": {
   "display_name": "Python 3",
   "language": "python",
   "name": "python3"
  },
  "language_info": {
   "codemirror_mode": {
    "name": "ipython",
    "version": 3
   },
   "file_extension": ".py",
   "mimetype": "text/x-python",
   "name": "python",
   "nbconvert_exporter": "python",
   "pygments_lexer": "ipython3",
   "version": "3.8.5"
  }
 },
 "nbformat": 4,
 "nbformat_minor": 4
}
